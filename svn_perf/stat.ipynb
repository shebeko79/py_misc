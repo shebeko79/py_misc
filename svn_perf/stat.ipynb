{
 "cells": [
  {
   "cell_type": "code",
   "execution_count": null,
   "id": "a5a6b5dd",
   "metadata": {},
   "outputs": [],
   "source": [
    "import pickle\n",
    "import time\n",
    "import datetime\n",
    "import os.path\n",
    "import numpy as np\n",
    "import csv\n",
    "import pathlib\n",
    "import pandas as pd"
   ]
  },
  {
   "cell_type": "code",
   "execution_count": null,
   "id": "1b071c2c",
   "metadata": {},
   "outputs": [],
   "source": [
    "f = open('svn.log', newline='')\n",
    "reader = csv.reader(f, delimiter='|')\n",
    "    \n",
    "svn_stat = {}\n",
    "    \n",
    "for row in reader:\n",
    "    \n",
    "    if len(row) != 3:\n",
    "        continue\n",
    "        \n",
    "    author = row[1].strip()\n",
    "    date =  row[2].strip().split()[0]\n",
    "\n",
    "    if date.find(\"no\") !=-1 :\n",
    "        continue\n",
    "\n",
    "    date = datetime.datetime.strptime(date,\"%Y-%m-%d\").date()\n",
    "    \n",
    "\n",
    "    if author in svn_stat:\n",
    "        rec = svn_stat[author]\n",
    "        \n",
    "        if date < rec[0]:\n",
    "            rec[0]=date\n",
    "        elif date > rec[1]:\n",
    "            rec[1]=date\n",
    "        \n",
    "        rec[2] = rec[2]+1\n",
    "        \n",
    "        svn_stat[author] = rec\n",
    "            \n",
    "    else:\n",
    "        svn_stat[author] = [date,date,1]\n",
    "        \n",
    "f.close()\n"
   ]
  },
  {
   "cell_type": "code",
   "execution_count": null,
   "id": "863b4f96",
   "metadata": {},
   "outputs": [],
   "source": [
    "freq_commits=[]\n",
    "\n",
    "for author in svn_stat:\n",
    "    rec = svn_stat[author]\n",
    "    if (rec[1]-rec[0]).days ==0:\n",
    "        f = 0\n",
    "    else:\n",
    "        f = rec[2]/(rec[1]-rec[0]).days\n",
    "    freq_commits.append([author,f,rec[2],rec[0],rec[1] ])\n",
    "    \n"
   ]
  },
  {
   "cell_type": "code",
   "execution_count": null,
   "id": "e10b2090",
   "metadata": {},
   "outputs": [],
   "source": [
    "freq_commits.sort(key=lambda rec: rec[1])\n",
    "freq_commits.reverse();\n",
    "\n",
    "authors=[]\n",
    "freqs=[]\n",
    "nums=[]\n",
    "start_dates=[]\n",
    "end_dates=[]\n",
    "\n",
    "for f in freq_commits:\n",
    "    authors.append(f[0])\n",
    "    freqs.append(f[1])\n",
    "    nums.append(f[2])\n",
    "    start_dates.append(f[3])\n",
    "    end_dates.append(f[4])\n",
    "\n",
    "df = pd.DataFrame({\n",
    "    \"Developer\": authors,\n",
    "    \"Commits per day\": freqs,\n",
    "    \"Commits\": nums,\n",
    "    \"Start date\": start_dates,\n",
    "    \"End date\": end_dates,\n",
    "})\n",
    "df.style.format(precision=3, thousands=\"\")\n"
   ]
  },
  {
   "cell_type": "code",
   "execution_count": null,
   "id": "d83473b7",
   "metadata": {},
   "outputs": [],
   "source": []
  }
 ],
 "metadata": {
  "kernelspec": {
   "display_name": "Python 3 (ipykernel)",
   "language": "python",
   "name": "python3"
  },
  "language_info": {
   "codemirror_mode": {
    "name": "ipython",
    "version": 3
   },
   "file_extension": ".py",
   "mimetype": "text/x-python",
   "name": "python",
   "nbconvert_exporter": "python",
   "pygments_lexer": "ipython3",
   "version": "3.9.4"
  }
 },
 "nbformat": 4,
 "nbformat_minor": 5
}
